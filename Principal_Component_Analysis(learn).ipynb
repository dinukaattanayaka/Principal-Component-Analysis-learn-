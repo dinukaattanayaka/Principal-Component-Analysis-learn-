{
  "nbformat": 4,
  "nbformat_minor": 0,
  "metadata": {
    "colab": {
      "provenance": [],
      "authorship_tag": "ABX9TyMDZDqp2xK0CVpg2n8PXxtf",
      "include_colab_link": true
    },
    "kernelspec": {
      "name": "python3",
      "display_name": "Python 3"
    },
    "language_info": {
      "name": "python"
    }
  },
  "cells": [
    {
      "cell_type": "markdown",
      "metadata": {
        "id": "view-in-github",
        "colab_type": "text"
      },
      "source": [
        "<a href=\"https://colab.research.google.com/github/dinukaattanayaka/Principal-Component-Analysis-learn-/blob/main/Principal_Component_Analysis(learn).ipynb\" target=\"_parent\"><img src=\"https://colab.research.google.com/assets/colab-badge.svg\" alt=\"Open In Colab\"/></a>"
      ]
    },
    {
      "cell_type": "code",
      "execution_count": 1,
      "metadata": {
        "colab": {
          "base_uri": "https://localhost:8080/"
        },
        "id": "Bb_fNR_VTgzd",
        "outputId": "28c4e483-3751-4f44-fdcf-cbc1b20e5622"
      },
      "outputs": [
        {
          "output_type": "stream",
          "name": "stdout",
          "text": [
            "Mounted at /content/drive\n"
          ]
        }
      ],
      "source": [
        "from google.colab import drive\n",
        "drive.mount('/content/drive')"
      ]
    },
    {
      "cell_type": "code",
      "source": [
        "import numpy as np\n",
        "import pandas as pd\n",
        "\n",
        "dataset=pd.read_csv('/content/drive/MyDrive/machine learning/DAY10 (Principal Component Analysis & Feature Engineering)/xvsy.csv').values\n",
        "\n",
        "print(dataset)"
      ],
      "metadata": {
        "colab": {
          "base_uri": "https://localhost:8080/"
        },
        "id": "XUnNcW_3UwMg",
        "outputId": "99640868-349f-4bb0-a6f9-c3d25538508e"
      },
      "execution_count": 2,
      "outputs": [
        {
          "output_type": "stream",
          "name": "stdout",
          "text": [
            "[[25.   6. ]\n",
            " [30.   6. ]\n",
            " [40.  10. ]\n",
            " [50.   9. ]\n",
            " [15.   6. ]\n",
            " [20.   7. ]\n",
            " [35.   8. ]\n",
            " [45.   7. ]\n",
            " [35.   6.5]\n",
            " [27.   7.5]\n",
            " [ 5.   4. ]\n",
            " [20.   4.5]\n",
            " [ 8.   5.5]\n",
            " [12.   3.5]\n",
            " [45.   9. ]\n",
            " [15.   3. ]]\n"
          ]
        }
      ]
    },
    {
      "cell_type": "code",
      "source": [
        "from matplotlib import pyplot as plt\n",
        "\n",
        "plt.scatter(dataset[:,0],dataset[:,1])\n",
        "plt.xlabel('Feature 1')\n",
        "plt.ylabel('Feature 2')\n",
        "plt.show()"
      ],
      "metadata": {
        "colab": {
          "base_uri": "https://localhost:8080/",
          "height": 449
        },
        "id": "ctZ9VMpNVP6_",
        "outputId": "92164d67-8146-412e-bb70-f7a10338fe9a"
      },
      "execution_count": 3,
      "outputs": [
        {
          "output_type": "display_data",
          "data": {
            "text/plain": [
              "<Figure size 640x480 with 1 Axes>"
            ],
            "image/png": "[encoded data removed]"
          },
          "metadata": {}
        }
      ]
    },
    {
      "cell_type": "code",
      "source": [
        "from sklearn.decomposition import PCA\n",
        "\n",
        "model = PCA(n_components=1)   #feature 1 & feature 2 walin ekai ganne\n",
        "\n",
        "model.fit(dataset)\n",
        "\n",
        "print(model.components_)  # features deke balapama enne"
      ],
      "metadata": {
        "colab": {
          "base_uri": "https://localhost:8080/"
        },
        "id": "cZ-fVzI5WotZ",
        "outputId": "e37e080e-a158-4fa2-c7b0-f9ea01be8354"
      },
      "execution_count": 4,
      "outputs": [
        {
          "output_type": "stream",
          "name": "stdout",
          "text": [
            "[[0.99307469 0.11748473]]\n"
          ]
        }
      ]
    },
    {
      "cell_type": "code",
      "source": [
        "0.99307469/(0.99307469 +0.11748473) #feature 1 wala balapama precentage ekak vidyt"
      ],
      "metadata": {
        "colab": {
          "base_uri": "https://localhost:8080/"
        },
        "id": "EKNFGnkqXNPt",
        "outputId": "15f51729-35df-4eda-bc2e-cb331d22c8fe"
      },
      "execution_count": 5,
      "outputs": [
        {
          "output_type": "execute_result",
          "data": {
            "text/plain": [
              "0.8942112165416598"
            ]
          },
          "metadata": {},
          "execution_count": 5
        }
      ]
    },
    {
      "cell_type": "code",
      "source": [
        "0.11748473/(0.99307469 +0.11748473) #feature 2 wala balapama precentage ekak vidyt"
      ],
      "metadata": {
        "colab": {
          "base_uri": "https://localhost:8080/"
        },
        "id": "LuYYDGieXc1R",
        "outputId": "069b7375-0799-433a-af7a-d3a1948627b4"
      },
      "execution_count": 6,
      "outputs": [
        {
          "output_type": "execute_result",
          "data": {
            "text/plain": [
              "0.10578878345834031"
            ]
          },
          "metadata": {},
          "execution_count": 6
        }
      ]
    },
    {
      "cell_type": "code",
      "source": [
        "dataset_new=model.transform(dataset)"
      ],
      "metadata": {
        "id": "UDF7Vb-FXjyJ"
      },
      "execution_count": 7,
      "outputs": []
    },
    {
      "cell_type": "code",
      "source": [
        "print(dataset_new)"
      ],
      "metadata": {
        "colab": {
          "base_uri": "https://localhost:8080/"
        },
        "id": "Hj3yxlBeXp8O",
        "outputId": "45a87749-0719-4417-db81-aa6bf7fc1242"
      },
      "execution_count": 8,
      "outputs": [
        {
          "output_type": "stream",
          "name": "stdout",
          "text": [
            "[[ -1.72354171]\n",
            " [  3.24183174]\n",
            " [ 13.64251755]\n",
            " [ 23.45577971]\n",
            " [-11.6542886 ]\n",
            " [ -6.57143043]\n",
            " [  8.44217464]\n",
            " [ 18.2554368 ]\n",
            " [  8.26594755]\n",
            " [  0.43883476]\n",
            " [-21.82000495]\n",
            " [ -6.86514225]\n",
            " [-18.66455379]\n",
            " [-14.92722449]\n",
            " [ 18.49040626]\n",
            " [-12.00674279]]\n"
          ]
        }
      ]
    }
  ]
}